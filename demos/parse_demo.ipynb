{
 "cells": [
  {
   "cell_type": "markdown",
   "metadata": {},
   "source": [
    "# A parse pycwl demo"
   ]
  },
  {
   "cell_type": "code",
   "execution_count": 8,
   "metadata": {},
   "outputs": [
    {
     "ename": "ImportError",
     "evalue": "No module named parser",
     "output_type": "error",
     "traceback": [
      "\u001b[1;31m---------------------------------------------------------------------------\u001b[0m",
      "\u001b[1;31mImportError\u001b[0m                               Traceback (most recent call last)",
      "\u001b[1;32m<ipython-input-8-3e046f03268b>\u001b[0m in \u001b[0;36m<module>\u001b[1;34m()\u001b[0m\n\u001b[0;32m      3\u001b[0m \u001b[0msys\u001b[0m\u001b[1;33m.\u001b[0m\u001b[0mpath\u001b[0m\u001b[1;33m.\u001b[0m\u001b[0mappend\u001b[0m\u001b[1;33m(\u001b[0m\u001b[1;34m\"../pycwl/\"\u001b[0m\u001b[1;33m)\u001b[0m\u001b[1;33m\u001b[0m\u001b[0m\n\u001b[0;32m      4\u001b[0m \u001b[1;32mimport\u001b[0m \u001b[0mpycwl\u001b[0m\u001b[1;33m\u001b[0m\u001b[0m\n\u001b[1;32m----> 5\u001b[1;33m \u001b[1;32mfrom\u001b[0m \u001b[0mpycwl\u001b[0m\u001b[1;33m.\u001b[0m\u001b[0mparser\u001b[0m \u001b[1;32mimport\u001b[0m \u001b[0mParser\u001b[0m\u001b[1;33m\u001b[0m\u001b[0m\n\u001b[0m",
      "\u001b[1;31mImportError\u001b[0m: No module named parser"
     ]
    }
   ],
   "source": [
    "import sys\n",
    "import matplotlib\n",
    "sys.path.append(\"../pycwl/\")\n",
    "import pycwl\n",
    "from pycwl.parser import Parser"
   ]
  },
  {
   "cell_type": "markdown",
   "metadata": {},
   "source": [
    "## Parser reads in the CommandLineTool and makes a Workflow from a CWL file"
   ]
  },
  {
   "cell_type": "code",
   "execution_count": 3,
   "metadata": {},
   "outputs": [
    {
     "ename": "NameError",
     "evalue": "name 'Parser' is not defined",
     "output_type": "error",
     "traceback": [
      "\u001b[1;31m---------------------------------------------------------------------------\u001b[0m",
      "\u001b[1;31mNameError\u001b[0m                                 Traceback (most recent call last)",
      "\u001b[1;32m<ipython-input-3-c6c95a074c67>\u001b[0m in \u001b[0;36m<module>\u001b[1;34m()\u001b[0m\n\u001b[1;32m----> 1\u001b[1;33m \u001b[0mmultiply_clt\u001b[0m \u001b[1;33m=\u001b[0m \u001b[0mParser\u001b[0m\u001b[1;33m.\u001b[0m\u001b[0mparse_cwlfile\u001b[0m\u001b[1;33m(\u001b[0m\u001b[1;34m'../test_data/1st-tool.cwl'\u001b[0m\u001b[1;33m)\u001b[0m\u001b[1;33m\u001b[0m\u001b[0m\n\u001b[0m\u001b[0;32m      2\u001b[0m '''\n\u001b[0;32m      3\u001b[0m \u001b[1;31m# REPLACE WITH THE PARSER STUFF\u001b[0m\u001b[1;33m\u001b[0m\u001b[1;33m\u001b[0m\u001b[0m\n\u001b[0;32m      4\u001b[0m \u001b[0mmultiply_clt\u001b[0m \u001b[1;33m=\u001b[0m \u001b[0mpycwl\u001b[0m\u001b[1;33m.\u001b[0m\u001b[0mCommandLineTool\u001b[0m\u001b[1;33m(\u001b[0m\u001b[0mbaseCommand\u001b[0m \u001b[1;33m=\u001b[0m \u001b[1;33m[\u001b[0m\u001b[1;34m\"python\"\u001b[0m\u001b[1;33m,\u001b[0m \u001b[1;34m\"multiply.py\"\u001b[0m\u001b[1;33m]\u001b[0m\u001b[1;33m)\u001b[0m\u001b[1;33m\u001b[0m\u001b[0m\n\u001b[0;32m      5\u001b[0m \u001b[0mmultiply_clt\u001b[0m\u001b[1;33m.\u001b[0m\u001b[0minputs\u001b[0m\u001b[1;33m[\u001b[0m\u001b[1;34m\"mlt_nr1\"\u001b[0m\u001b[1;33m]\u001b[0m\u001b[1;33m=\u001b[0m \u001b[0mpycwl\u001b[0m\u001b[1;33m.\u001b[0m\u001b[0mIO\u001b[0m\u001b[1;33m(\u001b[0m\u001b[0mdatatype\u001b[0m \u001b[1;33m=\u001b[0m \u001b[1;34m\"int\"\u001b[0m\u001b[1;33m,\u001b[0m \u001b[0mdefault_value\u001b[0m\u001b[1;33m=\u001b[0m\u001b[1;36m5\u001b[0m\u001b[1;33m)\u001b[0m\u001b[1;33m\u001b[0m\u001b[0m\n",
      "\u001b[1;31mNameError\u001b[0m: name 'Parser' is not defined"
     ]
    }
   ],
   "source": [
    "multiply_clt = Parser.parse_cwlfile('../test_data/1st-tool.cwl')\n",
    "'''\n",
    "# REPLACE WITH THE PARSER STUFF\n",
    "multiply_clt = pycwl.CommandLineTool(baseCommand = [\"python\", \"multiply.py\"])\n",
    "multiply_clt.inputs[\"mlt_nr1\"]= pycwl.IO(datatype = \"int\", default_value=5)\n",
    "multiply_clt.inputs[\"mlt_nr2\"]= pycwl.IO(datatype = \"int\")\n",
    "multiply_clt.outputs[\"multiply_result\"] = pycwl.IO(datatype = \"int\", output_type=\"stdout\")\n",
    "multiply_clt.arguments = [multiply_clt.inputs[\"mlt_nr1\"],multiply_clt.inputs[\"mlt_nr2\"]]\n",
    "'''\n",
    "calc_flow = pycwl.Workflow()\n",
    "calc_flow.inputs[\"flow_nr1\"] = pycwl.IO(datatype = \"int\")\n",
    "calc_flow.inputs[\"flow_nr2\"] = pycwl.IO(datatype = \"int\")\n",
    "calc_flow.outputs[\"multiply/multiply_result\"] = pycwl.IO(datatype = \"int\")\n",
    "\n",
    "step = pycwl.Step(process = multiply_clt)\n",
    "step.input_map = {\"flow_nr1\": \"mlt_nr_1\",\n",
    "              \"flow_nr2\": \"mlt_nr2\"}\n",
    "step.outputs = {\"multiply_result\"}\n",
    "calc_flow.steps[\"multiply\"] = step"
   ]
  },
  {
   "cell_type": "markdown",
   "metadata": {},
   "source": [
    "## Now visualise it"
   ]
  },
  {
   "cell_type": "code",
   "execution_count": 8,
   "metadata": {},
   "outputs": [
    {
     "data": {
      "image/svg+xml": [
       "<?xml version=\"1.0\" encoding=\"UTF-8\" standalone=\"no\"?>\r\n",
       "<!DOCTYPE svg PUBLIC \"-//W3C//DTD SVG 1.1//EN\"\r\n",
       " \"http://www.w3.org/Graphics/SVG/1.1/DTD/svg11.dtd\">\r\n",
       "<!-- Generated by graphviz version 2.38.0 (20140413.2041)\r\n",
       " -->\r\n",
       "<!-- Title: %3 Pages: 1 -->\r\n",
       "<svg width=\"245pt\" height=\"364pt\"\r\n",
       " viewBox=\"0.00 0.00 245.00 364.00\" xmlns=\"http://www.w3.org/2000/svg\" xmlns:xlink=\"http://www.w3.org/1999/xlink\">\r\n",
       "<g id=\"graph0\" class=\"graph\" transform=\"scale(1 1) rotate(0) translate(4 360)\">\r\n",
       "<title>%3</title>\r\n",
       "<polygon fill=\"white\" stroke=\"none\" points=\"-4,4 -4,-360 241,-360 241,4 -4,4\"/>\r\n",
       "<g id=\"clust1\" class=\"cluster\"><title>cluster_1</title>\r\n",
       "<polygon fill=\"none\" stroke=\"white\" points=\"28,-80 28,-276 226,-276 226,-80 28,-80\"/>\r\n",
       "</g>\r\n",
       "<g id=\"clust2\" class=\"cluster\"><title>cluster_0</title>\r\n",
       "<polygon fill=\"none\" stroke=\"black\" points=\"20,-296 20,-348 229,-348 229,-296 20,-296\"/>\r\n",
       "</g>\r\n",
       "<g id=\"clust3\" class=\"cluster\"><title>cluster_2</title>\r\n",
       "<polygon fill=\"none\" stroke=\"black\" points=\"8,-8 8,-60 214,-60 214,-8 8,-8\"/>\r\n",
       "</g>\r\n",
       "<!-- multiply -->\r\n",
       "<g id=\"node1\" class=\"node\"><title>multiply</title>\r\n",
       "<polygon fill=\"none\" stroke=\"blue\" points=\"141.5,-196 80.5,-196 80.5,-160 141.5,-160 141.5,-196\"/>\r\n",
       "<text text-anchor=\"middle\" x=\"111\" y=\"-174.3\" font-family=\"Times New Roman,serif\" font-size=\"14.00\">multiply</text>\r\n",
       "</g>\r\n",
       "<!-- multiply_result -->\r\n",
       "<g id=\"node2\" class=\"node\"><title>multiply_result</title>\r\n",
       "<ellipse fill=\"none\" stroke=\"black\" cx=\"111\" cy=\"-106\" rx=\"63.8893\" ry=\"18\"/>\r\n",
       "<text text-anchor=\"middle\" x=\"111\" y=\"-102.3\" font-family=\"Times New Roman,serif\" font-size=\"14.00\">multiply_result</text>\r\n",
       "</g>\r\n",
       "<!-- multiply&#45;&gt;multiply_result -->\r\n",
       "<g id=\"edge1\" class=\"edge\"><title>multiply&#45;&gt;multiply_result</title>\r\n",
       "<path fill=\"none\" stroke=\"black\" d=\"M111,-159.697C111,-151.983 111,-142.712 111,-134.112\"/>\r\n",
       "<polygon fill=\"black\" stroke=\"black\" points=\"114.5,-134.104 111,-124.104 107.5,-134.104 114.5,-134.104\"/>\r\n",
       "</g>\r\n",
       "<!-- multiply/multiply_result -->\r\n",
       "<g id=\"node7\" class=\"node\"><title>multiply/multiply_result</title>\r\n",
       "<ellipse fill=\"none\" stroke=\"red\" cx=\"111\" cy=\"-34\" rx=\"94.7833\" ry=\"18\"/>\r\n",
       "<text text-anchor=\"middle\" x=\"111\" y=\"-30.3\" font-family=\"Times New Roman,serif\" font-size=\"14.00\">multiply/multiply_result</text>\r\n",
       "</g>\r\n",
       "<!-- multiply_result&#45;&gt;multiply/multiply_result -->\r\n",
       "<g id=\"edge6\" class=\"edge\"><title>multiply_result&#45;&gt;multiply/multiply_result</title>\r\n",
       "<path fill=\"none\" stroke=\"blue\" d=\"M111,-87.6966C111,-79.9827 111,-70.7125 111,-62.1124\"/>\r\n",
       "<polygon fill=\"blue\" stroke=\"blue\" points=\"114.5,-62.1043 111,-52.1043 107.5,-62.1044 114.5,-62.1043\"/>\r\n",
       "</g>\r\n",
       "<!-- mlt_nr_1 -->\r\n",
       "<g id=\"node3\" class=\"node\"><title>mlt_nr_1</title>\r\n",
       "<ellipse fill=\"none\" stroke=\"black\" cx=\"174\" cy=\"-250\" rx=\"43.5923\" ry=\"18\"/>\r\n",
       "<text text-anchor=\"middle\" x=\"174\" y=\"-246.3\" font-family=\"Times New Roman,serif\" font-size=\"14.00\">mlt_nr_1</text>\r\n",
       "</g>\r\n",
       "<!-- mlt_nr_1&#45;&gt;multiply -->\r\n",
       "<g id=\"edge2\" class=\"edge\"><title>mlt_nr_1&#45;&gt;multiply</title>\r\n",
       "<path fill=\"none\" stroke=\"black\" d=\"M159.388,-232.765C151.587,-224.096 141.823,-213.248 133.113,-203.57\"/>\r\n",
       "<polygon fill=\"black\" stroke=\"black\" points=\"135.703,-201.216 126.412,-196.124 130.5,-205.898 135.703,-201.216\"/>\r\n",
       "</g>\r\n",
       "<!-- mlt_nr2 -->\r\n",
       "<g id=\"node4\" class=\"node\"><title>mlt_nr2</title>\r\n",
       "<ellipse fill=\"none\" stroke=\"black\" cx=\"74\" cy=\"-250\" rx=\"38.1938\" ry=\"18\"/>\r\n",
       "<text text-anchor=\"middle\" x=\"74\" y=\"-246.3\" font-family=\"Times New Roman,serif\" font-size=\"14.00\">mlt_nr2</text>\r\n",
       "</g>\r\n",
       "<!-- mlt_nr2&#45;&gt;multiply -->\r\n",
       "<g id=\"edge3\" class=\"edge\"><title>mlt_nr2&#45;&gt;multiply</title>\r\n",
       "<path fill=\"none\" stroke=\"black\" d=\"M82.7685,-232.411C87.0191,-224.369 92.2279,-214.515 97.0088,-205.47\"/>\r\n",
       "<polygon fill=\"black\" stroke=\"black\" points=\"100.199,-206.923 101.778,-196.447 94.0107,-203.652 100.199,-206.923\"/>\r\n",
       "</g>\r\n",
       "<!-- flow_nr1 -->\r\n",
       "<g id=\"node5\" class=\"node\"><title>flow_nr1</title>\r\n",
       "<ellipse fill=\"none\" stroke=\"red\" cx=\"177\" cy=\"-322\" rx=\"43.5923\" ry=\"18\"/>\r\n",
       "<text text-anchor=\"middle\" x=\"177\" y=\"-318.3\" font-family=\"Times New Roman,serif\" font-size=\"14.00\">flow_nr1</text>\r\n",
       "</g>\r\n",
       "<!-- flow_nr1&#45;&gt;mlt_nr_1 -->\r\n",
       "<g id=\"edge4\" class=\"edge\"><title>flow_nr1&#45;&gt;mlt_nr_1</title>\r\n",
       "<path fill=\"none\" stroke=\"blue\" d=\"M176.258,-303.697C175.928,-295.983 175.531,-286.712 175.162,-278.112\"/>\r\n",
       "<polygon fill=\"blue\" stroke=\"blue\" points=\"178.658,-277.945 174.733,-268.104 171.665,-278.245 178.658,-277.945\"/>\r\n",
       "</g>\r\n",
       "<!-- flow_nr2 -->\r\n",
       "<g id=\"node6\" class=\"node\"><title>flow_nr2</title>\r\n",
       "<ellipse fill=\"none\" stroke=\"red\" cx=\"72\" cy=\"-322\" rx=\"43.5923\" ry=\"18\"/>\r\n",
       "<text text-anchor=\"middle\" x=\"72\" y=\"-318.3\" font-family=\"Times New Roman,serif\" font-size=\"14.00\">flow_nr2</text>\r\n",
       "</g>\r\n",
       "<!-- flow_nr2&#45;&gt;mlt_nr2 -->\r\n",
       "<g id=\"edge5\" class=\"edge\"><title>flow_nr2&#45;&gt;mlt_nr2</title>\r\n",
       "<path fill=\"none\" stroke=\"blue\" d=\"M72.4944,-303.697C72.7148,-295.983 72.9796,-286.712 73.2254,-278.112\"/>\r\n",
       "<polygon fill=\"blue\" stroke=\"blue\" points=\"76.7242,-278.2 73.5113,-268.104 69.727,-278 76.7242,-278.2\"/>\r\n",
       "</g>\r\n",
       "</g>\r\n",
       "</svg>\r\n"
      ],
      "text/plain": [
       "<graphviz.dot.Digraph at 0x6aa8898>"
      ]
     },
     "execution_count": 8,
     "metadata": {},
     "output_type": "execute_result"
    }
   ],
   "source": [
    "calc_flow.get_dot()"
   ]
  },
  {
   "cell_type": "code",
   "execution_count": null,
   "metadata": {
    "collapsed": true
   },
   "outputs": [],
   "source": []
  },
  {
   "cell_type": "code",
   "execution_count": null,
   "metadata": {
    "collapsed": true
   },
   "outputs": [],
   "source": []
  }
 ],
 "metadata": {
  "kernelspec": {
   "display_name": "Python 2",
   "language": "python",
   "name": "python2"
  },
  "language_info": {
   "codemirror_mode": {
    "name": "ipython",
    "version": 2
   },
   "file_extension": ".py",
   "mimetype": "text/x-python",
   "name": "python",
   "nbconvert_exporter": "python",
   "pygments_lexer": "ipython2",
   "version": "2.7.13"
  }
 },
 "nbformat": 4,
 "nbformat_minor": 2
}
