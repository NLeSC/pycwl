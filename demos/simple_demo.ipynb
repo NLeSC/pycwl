{
 "cells": [
  {
   "cell_type": "markdown",
   "metadata": {},
   "source": [
    "# A simple pycwl demo"
   ]
  },
  {
   "cell_type": "code",
   "execution_count": 1,
   "metadata": {},
   "outputs": [],
   "source": [
    "import sys\n",
    "import matplotlib\n",
    "sys.path.append(\"../pycwl/\")\n",
    "import pycwl"
   ]
  },
  {
   "cell_type": "markdown",
   "metadata": {},
   "source": [
    "### Making command-line tools"
   ]
  },
  {
   "cell_type": "markdown",
   "metadata": {},
   "source": [
    "* We make a CommandLineTool which runs multiply.py"
   ]
  },
  {
   "cell_type": "code",
   "execution_count": 2,
   "metadata": {
    "collapsed": true
   },
   "outputs": [],
   "source": [
    "multiply_clt = pycwl.CommandLineTool(baseCommand = [\"python\", \"multiply.py\"])"
   ]
  },
  {
   "cell_type": "markdown",
   "metadata": {},
   "source": [
    "* We add inputs and outputs to this CommandLineTool. It takes two integers as input and generates one integer as output. We also need to tell the CommandLineTool how (which and in which order) to put the inputs as arguments on the command-line. \n",
    "\n",
    "* For the inputs we use an IO object (input-output) which will keep track of the datatype and can have default values."
   ]
  },
  {
   "cell_type": "code",
   "execution_count": 3,
   "metadata": {
    "collapsed": true
   },
   "outputs": [],
   "source": [
    "multiply_clt.inputs[\"mlt_nr1\"]= pycwl.IO(datatype = \"int\", default_value=5)\n",
    "multiply_clt.inputs[\"mlt_nr2\"]= pycwl.IO(datatype = \"int\")\n",
    "multiply_clt.outputs[\"multiply_result\"] = pycwl.IO(datatype = \"int\", output_type=\"stdout\")\n",
    "multiply_clt.arguments = [multiply_clt.inputs[\"mlt_nr1\"],multiply_clt.inputs[\"mlt_nr2\"]]"
   ]
  },
  {
   "cell_type": "markdown",
   "metadata": {},
   "source": [
    "* Just a little check inbetween to see whats in our CommandLineTool"
   ]
  },
  {
   "cell_type": "code",
   "execution_count": 4,
   "metadata": {},
   "outputs": [
    {
     "name": "stdout",
     "output_type": "stream",
     "text": [
      "['python', 'multiply.py']\n",
      "{'mlt_nr2': <pycwl.IO object at 0x0000000006BAF2B0>, 'mlt_nr1': <pycwl.IO object at 0x0000000006BAF2E8>}\n",
      "{'multiply_result': <pycwl.IO object at 0x0000000006BAF320>}\n",
      "[<pycwl.IO object at 0x0000000006BAF2E8>, <pycwl.IO object at 0x0000000006BAF2B0>]\n",
      "stdout\n"
     ]
    }
   ],
   "source": [
    "print multiply_clt.baseCommand\n",
    "print multiply_clt.inputs\n",
    "print multiply_clt.outputs\n",
    "print multiply_clt.arguments\n",
    "print multiply_clt.outputs[\"multiply_result\"].output_type"
   ]
  },
  {
   "cell_type": "markdown",
   "metadata": {},
   "source": [
    "* We make a second command-line tool that will add two numbers together (add.py)"
   ]
  },
  {
   "cell_type": "code",
   "execution_count": 5,
   "metadata": {
    "collapsed": true
   },
   "outputs": [],
   "source": [
    "add_clt = pycwl.CommandLineTool(baseCommand = [\"python\", \"add.py\"])\n",
    "add_clt.inputs[\"add_nr1\"]= pycwl.IO(datatype = \"int\", default_value=5)\n",
    "add_clt.inputs[\"add_nr2\"]= pycwl.IO(datatype = \"int\")\n",
    "add_clt.outputs[\"add_result\"] = pycwl.IO(datatype = \"int\", output_type=\"stdout\")\n",
    "add_clt.arguments = [add_clt.inputs[\"add_nr1\"],add_clt.inputs[\"add_nr2\"]]"
   ]
  },
  {
   "cell_type": "markdown",
   "metadata": {},
   "source": [
    "### Making a WorkFlow"
   ]
  },
  {
   "cell_type": "markdown",
   "metadata": {},
   "source": [
    "* To make a workflow we make a WorkFlow object"
   ]
  },
  {
   "cell_type": "code",
   "execution_count": 6,
   "metadata": {
    "collapsed": true
   },
   "outputs": [],
   "source": [
    "calc_flow = pycwl.Workflow()"
   ]
  },
  {
   "cell_type": "markdown",
   "metadata": {},
   "source": [
    "* We add inputs and outputs in typical CWL style"
   ]
  },
  {
   "cell_type": "code",
   "execution_count": 7,
   "metadata": {
    "collapsed": true
   },
   "outputs": [],
   "source": [
    "calc_flow.inputs[\"flow_nr1\"] = pycwl.IO(datatype = \"int\")\n",
    "calc_flow.inputs[\"flow_nr2\"] = pycwl.IO(datatype = \"int\")\n",
    "calc_flow.outputs[\"add/add_result\"] = pycwl.IO(datatype = \"int\")"
   ]
  },
  {
   "cell_type": "markdown",
   "metadata": {},
   "source": [
    "* Now we make a Step containing the multiply_clt process. We need to map multiply_clt's inputs, in this case we map them to the inputs of the workflow"
   ]
  },
  {
   "cell_type": "code",
   "execution_count": 8,
   "metadata": {
    "collapsed": true
   },
   "outputs": [],
   "source": [
    "step = pycwl.Step(process = multiply_clt)\n",
    "step.input_map = {\"flow_nr1\": \"mlt_nr_1\",\n",
    "              \"flow_nr2\": \"mlt_nr2\"}\n",
    "step.outputs = {\"multiply_result\"}"
   ]
  },
  {
   "cell_type": "markdown",
   "metadata": {},
   "source": [
    "* And we add the step to the workflow"
   ]
  },
  {
   "cell_type": "code",
   "execution_count": 9,
   "metadata": {
    "collapsed": true
   },
   "outputs": [],
   "source": [
    "calc_flow.steps[\"multiply\"] = step"
   ]
  },
  {
   "cell_type": "markdown",
   "metadata": {},
   "source": [
    "* In a different way we add the add_clt process to the workflow also. Note we map the inputs of add to 1) the output of multiply and 2) an input of the workflow"
   ]
  },
  {
   "cell_type": "code",
   "execution_count": 10,
   "metadata": {
    "collapsed": true
   },
   "outputs": [],
   "source": [
    "calc_flow.steps[\"add\"] = pycwl.Step(\n",
    "    process=add_clt,\n",
    "    input_map={\n",
    "        \"multiply/multiply_result\": \"add_nr_1\",\n",
    "        \"flow_nr3\": \"add_nr2\",\n",
    "    },\n",
    "    outputs={\n",
    "        \"add_result\",\n",
    "    },\n",
    ")"
   ]
  },
  {
   "cell_type": "code",
   "execution_count": 11,
   "metadata": {},
   "outputs": [
    {
     "data": {
      "image/svg+xml": [
       "<?xml version=\"1.0\" encoding=\"UTF-8\" standalone=\"no\"?>\r\n",
       "<!DOCTYPE svg PUBLIC \"-//W3C//DTD SVG 1.1//EN\"\r\n",
       " \"http://www.w3.org/Graphics/SVG/1.1/DTD/svg11.dtd\">\r\n",
       "<!-- Generated by graphviz version 2.38.0 (20140413.2041)\r\n",
       " -->\r\n",
       "<!-- Title: %3 Pages: 1 -->\r\n",
       "<svg width=\"87pt\" height=\"116pt\"\r\n",
       " viewBox=\"0.00 0.00 87.29 116.00\" xmlns=\"http://www.w3.org/2000/svg\" xmlns:xlink=\"http://www.w3.org/1999/xlink\">\r\n",
       "<g id=\"graph0\" class=\"graph\" transform=\"scale(1 1) rotate(0) translate(4 112)\">\r\n",
       "<title>%3</title>\r\n",
       "<polygon fill=\"white\" stroke=\"none\" points=\"-4,4 -4,-112 83.293,-112 83.293,4 -4,4\"/>\r\n",
       "<!-- add -->\r\n",
       "<g id=\"node1\" class=\"node\"><title>add</title>\r\n",
       "<ellipse fill=\"none\" stroke=\"black\" cx=\"39.6465\" cy=\"-90\" rx=\"27\" ry=\"18\"/>\r\n",
       "<text text-anchor=\"middle\" x=\"39.6465\" y=\"-86.3\" font-family=\"Times New Roman,serif\" font-size=\"14.00\">add</text>\r\n",
       "</g>\r\n",
       "<!-- multiply -->\r\n",
       "<g id=\"node2\" class=\"node\"><title>multiply</title>\r\n",
       "<ellipse fill=\"none\" stroke=\"black\" cx=\"39.6465\" cy=\"-18\" rx=\"39.7935\" ry=\"18\"/>\r\n",
       "<text text-anchor=\"middle\" x=\"39.6465\" y=\"-14.3\" font-family=\"Times New Roman,serif\" font-size=\"14.00\">multiply</text>\r\n",
       "</g>\r\n",
       "<!-- add&#45;&gt;multiply -->\r\n",
       "<g id=\"edge1\" class=\"edge\"><title>add&#45;&gt;multiply</title>\r\n",
       "<path fill=\"none\" stroke=\"black\" d=\"M39.6465,-71.6966C39.6465,-63.9827 39.6465,-54.7125 39.6465,-46.1124\"/>\r\n",
       "<polygon fill=\"black\" stroke=\"black\" points=\"43.1466,-46.1043 39.6465,-36.1043 36.1466,-46.1044 43.1466,-46.1043\"/>\r\n",
       "</g>\r\n",
       "</g>\r\n",
       "</svg>\r\n"
      ],
      "text/plain": [
       "<graphviz.dot.Digraph at 0x6ba6a90>"
      ]
     },
     "execution_count": 11,
     "metadata": {},
     "output_type": "execute_result"
    }
   ],
   "source": [
    "\n",
    "dot = calc_flow.get_dot()\n",
    "dot"
   ]
  },
  {
   "cell_type": "code",
   "execution_count": null,
   "metadata": {
    "collapsed": true
   },
   "outputs": [],
   "source": []
  }
 ],
 "metadata": {
  "kernelspec": {
   "display_name": "Python 2",
   "language": "python",
   "name": "python2"
  },
  "language_info": {
   "codemirror_mode": {
    "name": "ipython",
    "version": 2
   },
   "file_extension": ".py",
   "mimetype": "text/x-python",
   "name": "python",
   "nbconvert_exporter": "python",
   "pygments_lexer": "ipython2",
   "version": "2.7.13"
  }
 },
 "nbformat": 4,
 "nbformat_minor": 2
}
