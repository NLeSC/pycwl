{
 "cells": [
  {
   "cell_type": "markdown",
   "metadata": {},
   "source": [
    "# A simple pycwl demo"
   ]
  },
  {
   "cell_type": "code",
   "execution_count": 1,
   "metadata": {},
   "outputs": [],
   "source": [
    "import sys\n",
    "import matplotlib\n",
    "sys.path.append(\"../pycwl/\")\n",
    "import pycwl"
   ]
  },
  {
   "cell_type": "markdown",
   "metadata": {},
   "source": [
    "### Making command-line tools"
   ]
  },
  {
   "cell_type": "markdown",
   "metadata": {},
   "source": [
    "* We make a CommandLineTool which runs multiply.py"
   ]
  },
  {
   "cell_type": "code",
   "execution_count": 2,
   "metadata": {
    "collapsed": true
   },
   "outputs": [],
   "source": [
    "multiply_clt = pycwl.CommandLineTool(baseCommand = [\"python\", \"multiply.py\"])"
   ]
  },
  {
   "cell_type": "markdown",
   "metadata": {},
   "source": [
    "* We add inputs and outputs to this CommandLineTool. It takes two integers as input and generates one integer as output. We also need to tell the CommandLineTool how (which and in which order) to put the inputs as arguments on the command-line. \n",
    "\n",
    "* For the inputs we use an IO object (input-output) which will keep track of the datatype and can have default values."
   ]
  },
  {
   "cell_type": "code",
   "execution_count": 3,
   "metadata": {
    "collapsed": true
   },
   "outputs": [],
   "source": [
    "multiply_clt.inputs[\"mlt_nr1\"]= pycwl.IO(datatype = \"int\", default_value=5)\n",
    "multiply_clt.inputs[\"mlt_nr2\"]= pycwl.IO(datatype = \"int\")\n",
    "multiply_clt.outputs[\"multiply_result\"] = pycwl.IO(datatype = \"int\", output_type=\"stdout\")\n",
    "multiply_clt.arguments = [multiply_clt.inputs[\"mlt_nr1\"],multiply_clt.inputs[\"mlt_nr2\"]]"
   ]
  },
  {
   "cell_type": "markdown",
   "metadata": {},
   "source": [
    "* Just a little check inbetween to see whats in our CommandLineTool"
   ]
  },
  {
   "cell_type": "code",
   "execution_count": 4,
   "metadata": {},
   "outputs": [
    {
     "name": "stdout",
     "output_type": "stream",
     "text": [
      "['python', 'multiply.py']\n",
      "{'mlt_nr2': <pycwl.IO object at 0x0000000006B4B128>, 'mlt_nr1': <pycwl.IO object at 0x0000000006B4B160>}\n",
      "{'multiply_result': <pycwl.IO object at 0x0000000006B4B198>}\n",
      "[<pycwl.IO object at 0x0000000006B4B160>, <pycwl.IO object at 0x0000000006B4B128>]\n",
      "stdout\n"
     ]
    }
   ],
   "source": [
    "print (multiply_clt.baseCommand)\n",
    "print (multiply_clt.inputs)\n",
    "print (multiply_clt.outputs)\n",
    "print (multiply_clt.arguments)\n",
    "print (multiply_clt.outputs[\"multiply_result\"].output_type)"
   ]
  },
  {
   "cell_type": "markdown",
   "metadata": {},
   "source": [
    "* We make a second command-line tool that will add two numbers together (add.py)"
   ]
  },
  {
   "cell_type": "code",
   "execution_count": 5,
   "metadata": {
    "collapsed": true
   },
   "outputs": [],
   "source": [
    "add_clt = pycwl.CommandLineTool(baseCommand = [\"python\", \"add.py\"])\n",
    "add_clt.inputs[\"add_nr1\"]= pycwl.IO(datatype = \"int\", default_value=5)\n",
    "add_clt.inputs[\"add_nr2\"]= pycwl.IO(datatype = \"int\")\n",
    "add_clt.outputs[\"add_result\"] = pycwl.IO(datatype = \"int\", output_type=\"stdout\")\n",
    "add_clt.arguments = [add_clt.inputs[\"add_nr1\"],add_clt.inputs[\"add_nr2\"]]"
   ]
  },
  {
   "cell_type": "markdown",
   "metadata": {},
   "source": [
    "### Making a WorkFlow"
   ]
  },
  {
   "cell_type": "markdown",
   "metadata": {},
   "source": [
    "* To make a workflow we make a WorkFlow object"
   ]
  },
  {
   "cell_type": "code",
   "execution_count": 6,
   "metadata": {
    "collapsed": true
   },
   "outputs": [],
   "source": [
    "calc_flow = pycwl.Workflow()"
   ]
  },
  {
   "cell_type": "markdown",
   "metadata": {},
   "source": [
    "* We add inputs and outputs in typical CWL style"
   ]
  },
  {
   "cell_type": "code",
   "execution_count": 7,
   "metadata": {
    "collapsed": true
   },
   "outputs": [],
   "source": [
    "calc_flow.inputs[\"flow_nr1\"] = pycwl.IO(datatype = \"int\")\n",
    "calc_flow.inputs[\"flow_nr2\"] = pycwl.IO(datatype = \"int\")\n",
    "calc_flow.inputs[\"flow_nr3\"] = pycwl.IO(datatype = \"int\")\n",
    "calc_flow.outputs[\"add/add_result\"] = pycwl.IO(datatype = \"int\")"
   ]
  },
  {
   "cell_type": "markdown",
   "metadata": {},
   "source": [
    "* Now we make a Step containing the multiply_clt process. We need to map multiply_clt's inputs, in this case we map them to the inputs of the workflow"
   ]
  },
  {
   "cell_type": "code",
   "execution_count": 8,
   "metadata": {
    "collapsed": true
   },
   "outputs": [],
   "source": [
    "step = pycwl.Step(process = multiply_clt)\n",
    "step.input_map = {\"flow_nr1\": \"mlt_nr_1\",\n",
    "              \"flow_nr2\": \"mlt_nr2\"}\n",
    "step.outputs = {\"multiply_result\"}"
   ]
  },
  {
   "cell_type": "markdown",
   "metadata": {},
   "source": [
    "* And we add the step to the workflow"
   ]
  },
  {
   "cell_type": "code",
   "execution_count": 9,
   "metadata": {
    "collapsed": true
   },
   "outputs": [],
   "source": [
    "calc_flow.steps[\"multiply\"] = step"
   ]
  },
  {
   "cell_type": "markdown",
   "metadata": {},
   "source": [
    "* In a different way we add the add_clt process to the workflow also. Note we map the inputs of add to 1) the output of multiply and 2) an input of the workflow"
   ]
  },
  {
   "cell_type": "code",
   "execution_count": 10,
   "metadata": {
    "collapsed": true
   },
   "outputs": [],
   "source": [
    "calc_flow.steps[\"add\"] = pycwl.Step(\n",
    "    process=add_clt,\n",
    "    input_map={\n",
    "        \"multiply/multiply_result\": \"add_nr_1\",\n",
    "        \"flow_nr3\": \"add_nr2\",\n",
    "    },\n",
    "    outputs={\n",
    "        \"add_result\",\n",
    "    },\n",
    ")"
   ]
  },
  {
   "cell_type": "code",
   "execution_count": 11,
   "metadata": {},
   "outputs": [
    {
     "data": {
      "image/svg+xml": [
       "<?xml version=\"1.0\" encoding=\"UTF-8\" standalone=\"no\"?>\r\n",
       "<!DOCTYPE svg PUBLIC \"-//W3C//DTD SVG 1.1//EN\"\r\n",
       " \"http://www.w3.org/Graphics/SVG/1.1/DTD/svg11.dtd\">\r\n",
       "<!-- Generated by graphviz version 2.38.0 (20140413.2041)\r\n",
       " -->\r\n",
       "<!-- Title: %3 Pages: 1 -->\r\n",
       "<svg width=\"341pt\" height=\"580pt\"\r\n",
       " viewBox=\"0.00 0.00 341.00 580.00\" xmlns=\"http://www.w3.org/2000/svg\" xmlns:xlink=\"http://www.w3.org/1999/xlink\">\r\n",
       "<g id=\"graph0\" class=\"graph\" transform=\"scale(1 1) rotate(0) translate(4 576)\">\r\n",
       "<title>%3</title>\r\n",
       "<polygon fill=\"white\" stroke=\"none\" points=\"-4,4 -4,-576 337,-576 337,4 -4,4\"/>\r\n",
       "<g id=\"clust1\" class=\"cluster\"><title>cluster_1</title>\r\n",
       "<polygon fill=\"none\" stroke=\"white\" points=\"22,-80 22,-492 230,-492 230,-80 22,-80\"/>\r\n",
       "</g>\r\n",
       "<g id=\"clust3\" class=\"cluster\"><title>cluster_2</title>\r\n",
       "<polygon fill=\"none\" stroke=\"black\" points=\"8,-8 8,-60 154,-60 154,-8 8,-8\"/>\r\n",
       "</g>\r\n",
       "<g id=\"clust2\" class=\"cluster\"><title>cluster_0</title>\r\n",
       "<polygon fill=\"none\" stroke=\"black\" points=\"11,-512 11,-564 325,-564 325,-512 11,-512\"/>\r\n",
       "</g>\r\n",
       "<!-- multiply -->\r\n",
       "<g id=\"node1\" class=\"node\"><title>multiply</title>\r\n",
       "<polygon fill=\"none\" stroke=\"blue\" points=\"124.5,-412 63.5,-412 63.5,-376 124.5,-376 124.5,-412\"/>\r\n",
       "<text text-anchor=\"middle\" x=\"94\" y=\"-390.3\" font-family=\"Times New Roman,serif\" font-size=\"14.00\">multiply</text>\r\n",
       "</g>\r\n",
       "<!-- multiply_result -->\r\n",
       "<g id=\"node2\" class=\"node\"><title>multiply_result</title>\r\n",
       "<ellipse fill=\"none\" stroke=\"black\" cx=\"94\" cy=\"-322\" rx=\"63.8893\" ry=\"18\"/>\r\n",
       "<text text-anchor=\"middle\" x=\"94\" y=\"-318.3\" font-family=\"Times New Roman,serif\" font-size=\"14.00\">multiply_result</text>\r\n",
       "</g>\r\n",
       "<!-- multiply&#45;&gt;multiply_result -->\r\n",
       "<g id=\"edge1\" class=\"edge\"><title>multiply&#45;&gt;multiply_result</title>\r\n",
       "<path fill=\"none\" stroke=\"black\" d=\"M94,-375.697C94,-367.983 94,-358.712 94,-350.112\"/>\r\n",
       "<polygon fill=\"black\" stroke=\"black\" points=\"97.5001,-350.104 94,-340.104 90.5001,-350.104 97.5001,-350.104\"/>\r\n",
       "</g>\r\n",
       "<!-- add_nr_1 -->\r\n",
       "<g id=\"node8\" class=\"node\"><title>add_nr_1</title>\r\n",
       "<ellipse fill=\"none\" stroke=\"black\" cx=\"76\" cy=\"-250\" rx=\"46.2923\" ry=\"18\"/>\r\n",
       "<text text-anchor=\"middle\" x=\"76\" y=\"-246.3\" font-family=\"Times New Roman,serif\" font-size=\"14.00\">add_nr_1</text>\r\n",
       "</g>\r\n",
       "<!-- multiply_result&#45;&gt;add_nr_1 -->\r\n",
       "<g id=\"edge6\" class=\"edge\"><title>multiply_result&#45;&gt;add_nr_1</title>\r\n",
       "<path fill=\"none\" stroke=\"black\" d=\"M89.5506,-303.697C87.5452,-295.898 85.1308,-286.509 82.8989,-277.829\"/>\r\n",
       "<polygon fill=\"black\" stroke=\"black\" points=\"86.2785,-276.918 80.3983,-268.104 79.499,-278.661 86.2785,-276.918\"/>\r\n",
       "</g>\r\n",
       "<!-- mlt_nr_1 -->\r\n",
       "<g id=\"node3\" class=\"node\"><title>mlt_nr_1</title>\r\n",
       "<ellipse fill=\"none\" stroke=\"black\" cx=\"168\" cy=\"-466\" rx=\"43.5923\" ry=\"18\"/>\r\n",
       "<text text-anchor=\"middle\" x=\"168\" y=\"-462.3\" font-family=\"Times New Roman,serif\" font-size=\"14.00\">mlt_nr_1</text>\r\n",
       "</g>\r\n",
       "<!-- mlt_nr_1&#45;&gt;multiply -->\r\n",
       "<g id=\"edge2\" class=\"edge\"><title>mlt_nr_1&#45;&gt;multiply</title>\r\n",
       "<path fill=\"none\" stroke=\"black\" d=\"M151.208,-449.116C141.806,-440.222 129.893,-428.953 119.375,-419.003\"/>\r\n",
       "<polygon fill=\"black\" stroke=\"black\" points=\"121.688,-416.374 112.018,-412.044 116.878,-421.459 121.688,-416.374\"/>\r\n",
       "</g>\r\n",
       "<!-- mlt_nr2 -->\r\n",
       "<g id=\"node4\" class=\"node\"><title>mlt_nr2</title>\r\n",
       "<ellipse fill=\"none\" stroke=\"black\" cx=\"68\" cy=\"-466\" rx=\"38.1938\" ry=\"18\"/>\r\n",
       "<text text-anchor=\"middle\" x=\"68\" y=\"-462.3\" font-family=\"Times New Roman,serif\" font-size=\"14.00\">mlt_nr2</text>\r\n",
       "</g>\r\n",
       "<!-- mlt_nr2&#45;&gt;multiply -->\r\n",
       "<g id=\"edge3\" class=\"edge\"><title>mlt_nr2&#45;&gt;multiply</title>\r\n",
       "<path fill=\"none\" stroke=\"black\" d=\"M74.2939,-448.055C77.2203,-440.176 80.771,-430.617 84.0479,-421.794\"/>\r\n",
       "<polygon fill=\"black\" stroke=\"black\" points=\"87.3825,-422.868 87.5835,-412.275 80.8205,-420.431 87.3825,-422.868\"/>\r\n",
       "</g>\r\n",
       "<!-- add -->\r\n",
       "<g id=\"node5\" class=\"node\"><title>add</title>\r\n",
       "<polygon fill=\"none\" stroke=\"blue\" points=\"108,-196 54,-196 54,-160 108,-160 108,-196\"/>\r\n",
       "<text text-anchor=\"middle\" x=\"81\" y=\"-174.3\" font-family=\"Times New Roman,serif\" font-size=\"14.00\">add</text>\r\n",
       "</g>\r\n",
       "<!-- add_result -->\r\n",
       "<g id=\"node6\" class=\"node\"><title>add_result</title>\r\n",
       "<ellipse fill=\"none\" stroke=\"black\" cx=\"81\" cy=\"-106\" rx=\"48.9926\" ry=\"18\"/>\r\n",
       "<text text-anchor=\"middle\" x=\"81\" y=\"-102.3\" font-family=\"Times New Roman,serif\" font-size=\"14.00\">add_result</text>\r\n",
       "</g>\r\n",
       "<!-- add&#45;&gt;add_result -->\r\n",
       "<g id=\"edge4\" class=\"edge\"><title>add&#45;&gt;add_result</title>\r\n",
       "<path fill=\"none\" stroke=\"black\" d=\"M81,-159.697C81,-151.983 81,-142.712 81,-134.112\"/>\r\n",
       "<polygon fill=\"black\" stroke=\"black\" points=\"84.5001,-134.104 81,-124.104 77.5001,-134.104 84.5001,-134.104\"/>\r\n",
       "</g>\r\n",
       "<!-- add/add_result -->\r\n",
       "<g id=\"node12\" class=\"node\"><title>add/add_result</title>\r\n",
       "<ellipse fill=\"none\" stroke=\"red\" cx=\"81\" cy=\"-34\" rx=\"64.9885\" ry=\"18\"/>\r\n",
       "<text text-anchor=\"middle\" x=\"81\" y=\"-30.3\" font-family=\"Times New Roman,serif\" font-size=\"14.00\">add/add_result</text>\r\n",
       "</g>\r\n",
       "<!-- add_result&#45;&gt;add/add_result -->\r\n",
       "<g id=\"edge11\" class=\"edge\"><title>add_result&#45;&gt;add/add_result</title>\r\n",
       "<path fill=\"none\" stroke=\"blue\" d=\"M81,-87.6966C81,-79.9827 81,-70.7125 81,-62.1124\"/>\r\n",
       "<polygon fill=\"blue\" stroke=\"blue\" points=\"84.5001,-62.1043 81,-52.1043 77.5001,-62.1044 84.5001,-62.1043\"/>\r\n",
       "</g>\r\n",
       "<!-- add_nr2 -->\r\n",
       "<g id=\"node7\" class=\"node\"><title>add_nr2</title>\r\n",
       "<ellipse fill=\"none\" stroke=\"black\" cx=\"181\" cy=\"-250\" rx=\"40.8928\" ry=\"18\"/>\r\n",
       "<text text-anchor=\"middle\" x=\"181\" y=\"-246.3\" font-family=\"Times New Roman,serif\" font-size=\"14.00\">add_nr2</text>\r\n",
       "</g>\r\n",
       "<!-- add_nr2&#45;&gt;add -->\r\n",
       "<g id=\"edge5\" class=\"edge\"><title>add_nr2&#45;&gt;add</title>\r\n",
       "<path fill=\"none\" stroke=\"black\" d=\"M159.793,-234.155C146.469,-224.828 129.008,-212.606 113.91,-202.037\"/>\r\n",
       "<polygon fill=\"black\" stroke=\"black\" points=\"115.542,-198.907 105.343,-196.04 111.528,-204.642 115.542,-198.907\"/>\r\n",
       "</g>\r\n",
       "<!-- add_nr_1&#45;&gt;add -->\r\n",
       "<g id=\"edge7\" class=\"edge\"><title>add_nr_1&#45;&gt;add</title>\r\n",
       "<path fill=\"none\" stroke=\"black\" d=\"M77.236,-231.697C77.7869,-223.983 78.4491,-214.712 79.0634,-206.112\"/>\r\n",
       "<polygon fill=\"black\" stroke=\"black\" points=\"82.5568,-206.328 79.7783,-196.104 75.5746,-205.83 82.5568,-206.328\"/>\r\n",
       "</g>\r\n",
       "<!-- flow_nr1 -->\r\n",
       "<g id=\"node9\" class=\"node\"><title>flow_nr1</title>\r\n",
       "<ellipse fill=\"none\" stroke=\"red\" cx=\"168\" cy=\"-538\" rx=\"43.5923\" ry=\"18\"/>\r\n",
       "<text text-anchor=\"middle\" x=\"168\" y=\"-534.3\" font-family=\"Times New Roman,serif\" font-size=\"14.00\">flow_nr1</text>\r\n",
       "</g>\r\n",
       "<!-- flow_nr1&#45;&gt;mlt_nr_1 -->\r\n",
       "<g id=\"edge8\" class=\"edge\"><title>flow_nr1&#45;&gt;mlt_nr_1</title>\r\n",
       "<path fill=\"none\" stroke=\"blue\" d=\"M168,-519.697C168,-511.983 168,-502.712 168,-494.112\"/>\r\n",
       "<polygon fill=\"blue\" stroke=\"blue\" points=\"171.5,-494.104 168,-484.104 164.5,-494.104 171.5,-494.104\"/>\r\n",
       "</g>\r\n",
       "<!-- flow_nr3 -->\r\n",
       "<g id=\"node10\" class=\"node\"><title>flow_nr3</title>\r\n",
       "<ellipse fill=\"none\" stroke=\"red\" cx=\"273\" cy=\"-538\" rx=\"43.5923\" ry=\"18\"/>\r\n",
       "<text text-anchor=\"middle\" x=\"273\" y=\"-534.3\" font-family=\"Times New Roman,serif\" font-size=\"14.00\">flow_nr3</text>\r\n",
       "</g>\r\n",
       "<!-- flow_nr3&#45;&gt;add_nr2 -->\r\n",
       "<g id=\"edge9\" class=\"edge\"><title>flow_nr3&#45;&gt;add_nr2</title>\r\n",
       "<path fill=\"none\" stroke=\"blue\" d=\"M267.52,-519.966C252.084,-471.979 208.154,-335.414 189.522,-277.491\"/>\r\n",
       "<polygon fill=\"blue\" stroke=\"blue\" points=\"192.845,-276.393 186.451,-267.945 186.181,-278.536 192.845,-276.393\"/>\r\n",
       "</g>\r\n",
       "<!-- flow_nr2 -->\r\n",
       "<g id=\"node11\" class=\"node\"><title>flow_nr2</title>\r\n",
       "<ellipse fill=\"none\" stroke=\"red\" cx=\"63\" cy=\"-538\" rx=\"43.5923\" ry=\"18\"/>\r\n",
       "<text text-anchor=\"middle\" x=\"63\" y=\"-534.3\" font-family=\"Times New Roman,serif\" font-size=\"14.00\">flow_nr2</text>\r\n",
       "</g>\r\n",
       "<!-- flow_nr2&#45;&gt;mlt_nr2 -->\r\n",
       "<g id=\"edge10\" class=\"edge\"><title>flow_nr2&#45;&gt;mlt_nr2</title>\r\n",
       "<path fill=\"none\" stroke=\"blue\" d=\"M64.236,-519.697C64.7869,-511.983 65.4491,-502.712 66.0634,-494.112\"/>\r\n",
       "<polygon fill=\"blue\" stroke=\"blue\" points=\"69.5568,-494.328 66.7783,-484.104 62.5746,-493.83 69.5568,-494.328\"/>\r\n",
       "</g>\r\n",
       "</g>\r\n",
       "</svg>\r\n"
      ],
      "text/plain": [
       "<graphviz.dot.Digraph at 0x6b3fcf8>"
      ]
     },
     "execution_count": 11,
     "metadata": {},
     "output_type": "execute_result"
    }
   ],
   "source": [
    "\n",
    "dot = calc_flow.get_dot()\n",
    "dot"
   ]
  },
  {
   "cell_type": "code",
   "execution_count": null,
   "metadata": {
    "collapsed": true
   },
   "outputs": [],
   "source": []
  }
 ],
 "metadata": {
  "kernelspec": {
   "display_name": "Python 2",
   "language": "python",
   "name": "python2"
  },
  "language_info": {
   "codemirror_mode": {
    "name": "ipython",
    "version": 2
   },
   "file_extension": ".py",
   "mimetype": "text/x-python",
   "name": "python",
   "nbconvert_exporter": "python",
   "pygments_lexer": "ipython2",
   "version": "2.7.13"
  }
 },
 "nbformat": 4,
 "nbformat_minor": 2
}
