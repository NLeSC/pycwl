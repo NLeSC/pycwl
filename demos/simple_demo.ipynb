{
 "cells": [
  {
   "cell_type": "markdown",
   "metadata": {},
   "source": [
    "# A simple pycwl demo"
   ]
  },
  {
   "cell_type": "code",
   "execution_count": 2,
   "metadata": {},
   "outputs": [],
   "source": [
    "import sys\n",
    "sys.path.append(\"../pycwl/\")\n",
    "import pycwl"
   ]
  },
  {
   "cell_type": "markdown",
   "metadata": {},
   "source": [
    "### Making command-line tools"
   ]
  },
  {
   "cell_type": "markdown",
   "metadata": {},
   "source": [
    "* We make a CommandLineTool which runs multiply.py"
   ]
  },
  {
   "cell_type": "code",
   "execution_count": 3,
   "metadata": {
    "collapsed": true
   },
   "outputs": [],
   "source": [
    "multiply_clt = pycwl.CommandLineTool(baseCommand = \"multiply.py\")"
   ]
  },
  {
   "cell_type": "markdown",
   "metadata": {},
   "source": [
    "* We add inputs and outputs to this CommandLineTool. It takes two integers as input and generates one integer as output. We also need to tell the CommandLineTool how (which and in which order) to put the inputs as arguments on the command-line. \n",
    "\n",
    "* For the inputs we use an IO object (input-output) which will keep track of the datatype and can have default values."
   ]
  },
  {
   "cell_type": "code",
   "execution_count": 6,
   "metadata": {
    "collapsed": true
   },
   "outputs": [],
   "source": [
    "multiply_clt.inputs[\"mlt_nr1\"]= pycwl.IO(datatype = \"int\", default_value=5)\n",
    "multiply_clt.inputs[\"mlt_nr2\"]= pycwl.IO(datatype = \"int\")\n",
    "multiply_clt.outputs[\"multiply_result\"] = pycwl.IO(datatype = \"int\")\n",
    "multiply_clt.arguments = [multiply_clt.inputs[\"mlt_nr1\"],multiply_clt.inputs[\"mlt_nr2\"]]"
   ]
  },
  {
   "cell_type": "markdown",
   "metadata": {},
   "source": [
    "* Just a little check inbetween to see whats in our CommandLineTool"
   ]
  },
  {
   "cell_type": "code",
   "execution_count": 7,
   "metadata": {},
   "outputs": [
    {
     "name": "stdout",
     "output_type": "stream",
     "text": [
      "multiply.py\n",
      "{'mlt_nr2': <pycwl.IO object at 0x0000000004ABA828>, 'mlt_nr1': <pycwl.IO object at 0x0000000004ABA588>}\n",
      "{'multiply_result': <pycwl.IO object at 0x0000000004ABA5C0>}\n",
      "[<pycwl.IO object at 0x0000000004ABA588>, <pycwl.IO object at 0x0000000004ABA828>]\n"
     ]
    }
   ],
   "source": [
    "print multiply_clt.baseCommand\n",
    "print multiply_clt.inputs\n",
    "print multiply_clt.outputs\n",
    "print multiply_clt.arguments"
   ]
  },
  {
   "cell_type": "markdown",
   "metadata": {},
   "source": [
    "* We make a second command-line tool that will add two numbers together (add.py)"
   ]
  },
  {
   "cell_type": "code",
   "execution_count": 12,
   "metadata": {},
   "outputs": [],
   "source": [
    "add_clt = pycwl.CommandLineTool(baseCommand = \"add.py\")\n",
    "add_clt.inputs[\"add_nr1\"]= pycwl.IO(datatype = \"int\", default_value=5)\n",
    "add_clt.inputs[\"add_nr2\"]= pycwl.IO(datatype = \"int\")\n",
    "add_clt.outputs[\"add_result\"] = pycwl.IO(datatype = \"int\")\n",
    "add_clt.arguments = [add_clt.inputs[\"add_nr1\"],add_clt.inputs[\"add_nr2\"]]"
   ]
  },
  {
   "cell_type": "markdown",
   "metadata": {},
   "source": [
    "### Making a WorkFlow"
   ]
  },
  {
   "cell_type": "code",
   "execution_count": null,
   "metadata": {
    "collapsed": true
   },
   "outputs": [],
   "source": [
    "calc_flow = Workflow()#, inputs=[], outputs)\n",
    "calc_flow.inputs[\"flow_nr1\"] = IO(datatype=pyCWL.dtype.int)\n",
    "calc_flow.inputs[\"flow_nr2\"] = IO(datatype=pyCWL.dtype.int)\n",
    "calc_flow.output[\"add/add_result\"] = IO(datatype=pyCWL.dtype.int)\n",
    "\n",
    "step = Step(multiply_clt)\n",
    "step.input_map = {\"flow_nr1\": \"mlt_nr_1\",\n",
    "              \"flow_nr2\": \"mlt_nr2\"}\n",
    "step.output = {\"multiply_result\"}\n",
    "calc_flow.steps[\"multiply\"] = step\n",
    "\n",
    "calc_flow.steps[\"add\"] = Step(\n",
    "    add_clt,\n",
    "    input_map={\n",
    "        \"multiply/multiply_result\": \"add_nr_1\",\n",
    "        \"flow_nr3\": \"add_nr2\",\n",
    "    },\n",
    "    output={\n",
    "        \"add_result\",\n",
    "    },\n",
    ")\n"
   ]
  }
 ],
 "metadata": {
  "kernelspec": {
   "display_name": "Python 2",
   "language": "python",
   "name": "python2"
  },
  "language_info": {
   "codemirror_mode": {
    "name": "ipython",
    "version": 2
   },
   "file_extension": ".py",
   "mimetype": "text/x-python",
   "name": "python",
   "nbconvert_exporter": "python",
   "pygments_lexer": "ipython2",
   "version": "2.7.13"
  }
 },
 "nbformat": 4,
 "nbformat_minor": 2
}
