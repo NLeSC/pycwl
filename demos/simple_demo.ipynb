{
 "cells": [
  {
   "cell_type": "code",
   "execution_count": 2,
   "metadata": {},
   "outputs": [],
   "source": [
    "import sys\n",
    "sys.path.append(\"../pycwl/\")\n",
    "import pycwl"
   ]
  },
  {
   "cell_type": "code",
   "execution_count": 3,
   "metadata": {
    "collapsed": true
   },
   "outputs": [],
   "source": [
    "multiply_clt = pycwl.CommandLineTool(baseCommand = \"multiply.py\")\n",
    "multiply_clt.inputs[\"mlt_nr1\"]= pycwl.IO(datatype = \"int\", default_value=5)\n",
    "multiply_clt.inputs[\"mlt_nr2\"]= pycwl.IO(datatype = \"int\")\n",
    "multiply_clt.outputs[\"multiply_result\"] = pycwl.IO(datatype = \"int\")\n",
    "multiply_clt.arguments = [multiply_clt.inputs[\"mlt_nr1\"],multiply_clt.inputs[\"mlt_nr2\"]]"
   ]
  },
  {
   "cell_type": "code",
   "execution_count": 4,
   "metadata": {},
   "outputs": [
    {
     "name": "stdout",
     "output_type": "stream",
     "text": [
      "multiply.py\n",
      "{'mlt_nr2': <pycwl.IO object at 0x0000000004ABA978>, 'mlt_nr1': <pycwl.IO object at 0x0000000004ABA940>}\n",
      "{'multiply_result': <pycwl.IO object at 0x0000000004ABA8D0>}\n",
      "[<pycwl.IO object at 0x0000000004ABA940>, <pycwl.IO object at 0x0000000004ABA978>]\n"
     ]
    }
   ],
   "source": [
    "print multiply_clt.baseCommand\n",
    "print multiply_clt.inputs\n",
    "print multiply_clt.outputs\n",
    "print multiply_clt.arguments"
   ]
  },
  {
   "cell_type": "code",
   "execution_count": 5,
   "metadata": {
    "collapsed": true
   },
   "outputs": [],
   "source": [
    "add_clt = pycwl.CommandLineTool(baseCommand = \"add.py\")\n",
    "add_clt.inputs[\"add_nr1\"]= pycwl.IO(datatype = \"int\", default_value=5)\n",
    "add_clt.inputs[\"add_nr2\"]= pycwl.IO(datatype = \"int\")\n",
    "add_clt.outputs[\"add_result\"] = pycwl.IO(datatype = \"int\")\n",
    "add_clt.arguments = [add_clt.inputs[\"add_nr1\"],add_clt.inputs[\"add_nr2\"]]"
   ]
  },
  {
   "cell_type": "code",
   "execution_count": null,
   "metadata": {
    "collapsed": true
   },
   "outputs": [],
   "source": [
    "\n",
    "\n",
    "\n",
    "\n",
    "\n",
    "add_clt = clt_node( baseCommand=\"add.py\")\n",
    "...\n",
    "\n",
    "\n",
    "\n",
    "calc_flow = Workflow()#, inputs=[], outputs)\n",
    "calc_flow.inputs[\"flow_nr1\"] = IO(datatype=pyCWL.dtype.int)\n",
    "calc_flow.inputs[\"flow_nr2\"] = IO(datatype=pyCWL.dtype.int)\n",
    "calc_flow.output[\"add/add_result\"] = IO(datatype=pyCWL.dtype.int)\n",
    "\n",
    "step = Step(multiply_clt)\n",
    "step.input_map = {\"flow_nr1\": \"mlt_nr_1\",\n",
    "              \"flow_nr2\": \"mlt_nr2\"}\n",
    "step.output = {\"multiply_result\"}\n",
    "calc_flow.steps[\"multiply\"] = step\n",
    "\n",
    "calc_flow.steps[\"add\"] = Step(\n",
    "    add_clt,\n",
    "    input_map={\n",
    "        \"multiply/multiply_result\": \"add_nr_1\",\n",
    "        \"flow_nr3\": \"add_nr2\",\n",
    "    },\n",
    "    output={\n",
    "        \"add_result\",\n",
    "    },\n",
    ")\n",
    "\n"
   ]
  }
 ],
 "metadata": {
  "kernelspec": {
   "display_name": "Python 2",
   "language": "python",
   "name": "python2"
  },
  "language_info": {
   "codemirror_mode": {
    "name": "ipython",
    "version": 2
   },
   "file_extension": ".py",
   "mimetype": "text/x-python",
   "name": "python",
   "nbconvert_exporter": "python",
   "pygments_lexer": "ipython2",
   "version": "2.7.13"
  }
 },
 "nbformat": 4,
 "nbformat_minor": 2
}
