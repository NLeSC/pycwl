{
 "cells": [
  {
   "cell_type": "markdown",
   "metadata": {},
   "source": [
    "# A simple pycwl demo"
   ]
  },
  {
   "cell_type": "code",
   "execution_count": 1,
   "metadata": {},
   "outputs": [],
   "source": [
    "import sys\n",
    "import matplotlib\n",
    "sys.path.append(\"../pycwl/\")\n",
    "import pycwl"
   ]
  },
  {
   "cell_type": "markdown",
   "metadata": {},
   "source": [
    "### Making command-line tools"
   ]
  },
  {
   "cell_type": "markdown",
   "metadata": {},
   "source": [
    "* We make a CommandLineTool which runs multiply.py"
   ]
  },
  {
   "cell_type": "code",
   "execution_count": 2,
   "metadata": {
    "collapsed": true
   },
   "outputs": [],
   "source": [
    "multiply_clt = pycwl.CommandLineTool(baseCommand = [\"python\", \"multiply.py\"])"
   ]
  },
  {
   "cell_type": "markdown",
   "metadata": {},
   "source": [
    "* We add inputs and outputs to this CommandLineTool. It takes two integers as input and generates one integer as output. We also need to tell the CommandLineTool how (which and in which order) to put the inputs as arguments on the command-line. \n",
    "\n",
    "* For the inputs we use an IO object (input-output) which will keep track of the datatype and can have default values."
   ]
  },
  {
   "cell_type": "code",
   "execution_count": 3,
   "metadata": {
    "collapsed": true
   },
   "outputs": [],
   "source": [
    "multiply_clt.inputs[\"mlt_nr1\"]= pycwl.IO(datatype = \"int\", default_value=5)\n",
    "multiply_clt.inputs[\"mlt_nr2\"]= pycwl.IO(datatype = \"int\")\n",
    "multiply_clt.outputs[\"multiply_result\"] = pycwl.IO(datatype = \"int\", output_type=\"stdout\")\n",
    "multiply_clt.arguments = [multiply_clt.inputs[\"mlt_nr1\"],multiply_clt.inputs[\"mlt_nr2\"]]"
   ]
  },
  {
   "cell_type": "markdown",
   "metadata": {},
   "source": [
    "* Just a little check inbetween to see whats in our CommandLineTool"
   ]
  },
  {
   "cell_type": "code",
   "execution_count": 12,
   "metadata": {},
   "outputs": [
    {
     "name": "stdout",
     "output_type": "stream",
     "text": [
      "['python', 'multiply.py']\n",
      "{'mlt_nr2': <pycwl.IO object at 0x00000000069BC278>, 'mlt_nr1': <pycwl.IO object at 0x00000000069BC2B0>}\n",
      "{'multiply_result': <pycwl.IO object at 0x00000000069BC2E8>}\n",
      "[<pycwl.IO object at 0x00000000069BC2B0>, <pycwl.IO object at 0x00000000069BC278>]\n",
      "stdout\n"
     ]
    }
   ],
   "source": [
    "print (multiply_clt.baseCommand)\n",
    "print (multiply_clt.inputs)\n",
    "print (multiply_clt.outputs)\n",
    "print (multiply_clt.arguments)\n",
    "print (multiply_clt.outputs[\"multiply_result\"].output_type)"
   ]
  },
  {
   "cell_type": "markdown",
   "metadata": {},
   "source": [
    "* We make a second command-line tool that will add two numbers together (add.py)"
   ]
  },
  {
   "cell_type": "code",
   "execution_count": 5,
   "metadata": {
    "collapsed": true
   },
   "outputs": [],
   "source": [
    "add_clt = pycwl.CommandLineTool(baseCommand = [\"python\", \"add.py\"])\n",
    "add_clt.inputs[\"add_nr1\"]= pycwl.IO(datatype = \"int\", default_value=5)\n",
    "add_clt.inputs[\"add_nr2\"]= pycwl.IO(datatype = \"int\")\n",
    "add_clt.outputs[\"add_result\"] = pycwl.IO(datatype = \"int\", output_type=\"stdout\")\n",
    "add_clt.arguments = [add_clt.inputs[\"add_nr1\"],add_clt.inputs[\"add_nr2\"]]"
   ]
  },
  {
   "cell_type": "markdown",
   "metadata": {},
   "source": [
    "### Making a WorkFlow"
   ]
  },
  {
   "cell_type": "markdown",
   "metadata": {},
   "source": [
    "* To make a workflow we make a WorkFlow object"
   ]
  },
  {
   "cell_type": "code",
   "execution_count": 6,
   "metadata": {
    "collapsed": true
   },
   "outputs": [],
   "source": [
    "calc_flow = pycwl.Workflow()"
   ]
  },
  {
   "cell_type": "markdown",
   "metadata": {},
   "source": [
    "* We add inputs and outputs in typical CWL style"
   ]
  },
  {
   "cell_type": "code",
   "execution_count": 7,
   "metadata": {
    "collapsed": true
   },
   "outputs": [],
   "source": [
    "calc_flow.inputs[\"flow_nr1\"] = pycwl.IO(datatype = \"int\")\n",
    "calc_flow.inputs[\"flow_nr2\"] = pycwl.IO(datatype = \"int\")\n",
    "calc_flow.outputs[\"add/add_result\"] = pycwl.IO(datatype = \"int\")"
   ]
  },
  {
   "cell_type": "markdown",
   "metadata": {},
   "source": [
    "* Now we make a Step containing the multiply_clt process. We need to map multiply_clt's inputs, in this case we map them to the inputs of the workflow"
   ]
  },
  {
   "cell_type": "code",
   "execution_count": 8,
   "metadata": {
    "collapsed": true
   },
   "outputs": [],
   "source": [
    "step = pycwl.Step(process = multiply_clt)\n",
    "step.input_map = {\"flow_nr1\": \"mlt_nr_1\",\n",
    "              \"flow_nr2\": \"mlt_nr2\"}\n",
    "step.outputs = {\"multiply_result\"}"
   ]
  },
  {
   "cell_type": "markdown",
   "metadata": {},
   "source": [
    "* And we add the step to the workflow"
   ]
  },
  {
   "cell_type": "code",
   "execution_count": 9,
   "metadata": {
    "collapsed": true
   },
   "outputs": [],
   "source": [
    "calc_flow.steps[\"multiply\"] = step"
   ]
  },
  {
   "cell_type": "markdown",
   "metadata": {},
   "source": [
    "* In a different way we add the add_clt process to the workflow also. Note we map the inputs of add to 1) the output of multiply and 2) an input of the workflow"
   ]
  },
  {
   "cell_type": "code",
   "execution_count": 10,
   "metadata": {
    "collapsed": true
   },
   "outputs": [],
   "source": [
    "calc_flow.steps[\"add\"] = pycwl.Step(\n",
    "    process=add_clt,\n",
    "    input_map={\n",
    "        \"multiply/multiply_result\": \"add_nr_1\",\n",
    "        \"flow_nr3\": \"add_nr2\",\n",
    "    },\n",
    "    outputs={\n",
    "        \"add_result\",\n",
    "    },\n",
    ")"
   ]
  },
  {
   "cell_type": "code",
   "execution_count": 11,
   "metadata": {},
   "outputs": [
    {
     "data": {
      "image/svg+xml": [
       "<?xml version=\"1.0\" encoding=\"UTF-8\" standalone=\"no\"?>\r\n",
       "<!DOCTYPE svg PUBLIC \"-//W3C//DTD SVG 1.1//EN\"\r\n",
       " \"http://www.w3.org/Graphics/SVG/1.1/DTD/svg11.dtd\">\r\n",
       "<!-- Generated by graphviz version 2.38.0 (20140413.2041)\r\n",
       " -->\r\n",
       "<!-- Title: %3 Pages: 1 -->\r\n",
       "<svg width=\"273pt\" height=\"548pt\"\r\n",
       " viewBox=\"0.00 0.00 273.09 548.00\" xmlns=\"http://www.w3.org/2000/svg\" xmlns:xlink=\"http://www.w3.org/1999/xlink\">\r\n",
       "<g id=\"graph0\" class=\"graph\" transform=\"scale(1 1) rotate(0) translate(4 544)\">\r\n",
       "<title>%3</title>\r\n",
       "<polygon fill=\"white\" stroke=\"none\" points=\"-4,4 -4,-544 269.092,-544 269.092,4 -4,4\"/>\r\n",
       "<!-- multiply -->\r\n",
       "<g id=\"node1\" class=\"node\"><title>multiply</title>\r\n",
       "<polygon fill=\"none\" stroke=\"black\" points=\"199.046,-396 138.046,-396 138.046,-360 199.046,-360 199.046,-396\"/>\r\n",
       "<text text-anchor=\"middle\" x=\"168.546\" y=\"-374.3\" font-family=\"Times New Roman,serif\" font-size=\"14.00\">multiply</text>\r\n",
       "</g>\r\n",
       "<!-- multiply_result -->\r\n",
       "<g id=\"node2\" class=\"node\"><title>multiply_result</title>\r\n",
       "<ellipse fill=\"none\" stroke=\"black\" cx=\"168.546\" cy=\"-306\" rx=\"63.8893\" ry=\"18\"/>\r\n",
       "<text text-anchor=\"middle\" x=\"168.546\" y=\"-302.3\" font-family=\"Times New Roman,serif\" font-size=\"14.00\">multiply_result</text>\r\n",
       "</g>\r\n",
       "<!-- multiply&#45;&gt;multiply_result -->\r\n",
       "<g id=\"edge1\" class=\"edge\"><title>multiply&#45;&gt;multiply_result</title>\r\n",
       "<path fill=\"none\" stroke=\"black\" d=\"M168.546,-359.697C168.546,-351.983 168.546,-342.712 168.546,-334.112\"/>\r\n",
       "<polygon fill=\"black\" stroke=\"black\" points=\"172.046,-334.104 168.546,-324.104 165.046,-334.104 172.046,-334.104\"/>\r\n",
       "</g>\r\n",
       "<!-- add_nr_1 -->\r\n",
       "<g id=\"node9\" class=\"node\"><title>add_nr_1</title>\r\n",
       "<ellipse fill=\"none\" stroke=\"black\" cx=\"163.546\" cy=\"-234\" rx=\"46.2923\" ry=\"18\"/>\r\n",
       "<text text-anchor=\"middle\" x=\"163.546\" y=\"-230.3\" font-family=\"Times New Roman,serif\" font-size=\"14.00\">add_nr_1</text>\r\n",
       "</g>\r\n",
       "<!-- multiply_result&#45;&gt;add_nr_1 -->\r\n",
       "<g id=\"edge7\" class=\"edge\"><title>multiply_result&#45;&gt;add_nr_1</title>\r\n",
       "<path fill=\"none\" stroke=\"black\" d=\"M167.31,-287.697C166.759,-279.983 166.097,-270.712 165.483,-262.112\"/>\r\n",
       "<polygon fill=\"black\" stroke=\"black\" points=\"168.972,-261.83 164.768,-252.104 161.989,-262.328 168.972,-261.83\"/>\r\n",
       "</g>\r\n",
       "<!-- mlt_nr_1 -->\r\n",
       "<g id=\"node3\" class=\"node\"><title>mlt_nr_1</title>\r\n",
       "<ellipse fill=\"none\" stroke=\"black\" cx=\"117.546\" cy=\"-450\" rx=\"43.5923\" ry=\"18\"/>\r\n",
       "<text text-anchor=\"middle\" x=\"117.546\" y=\"-446.3\" font-family=\"Times New Roman,serif\" font-size=\"14.00\">mlt_nr_1</text>\r\n",
       "</g>\r\n",
       "<!-- mlt_nr_1&#45;&gt;multiply -->\r\n",
       "<g id=\"edge2\" class=\"edge\"><title>mlt_nr_1&#45;&gt;multiply</title>\r\n",
       "<path fill=\"none\" stroke=\"black\" d=\"M129.632,-432.411C135.676,-424.115 143.126,-413.891 149.884,-404.615\"/>\r\n",
       "<polygon fill=\"black\" stroke=\"black\" points=\"152.775,-406.59 155.835,-396.447 147.117,-402.468 152.775,-406.59\"/>\r\n",
       "</g>\r\n",
       "<!-- mlt_nr2 -->\r\n",
       "<g id=\"node4\" class=\"node\"><title>mlt_nr2</title>\r\n",
       "<ellipse fill=\"none\" stroke=\"black\" cx=\"219.546\" cy=\"-450\" rx=\"38.1938\" ry=\"18\"/>\r\n",
       "<text text-anchor=\"middle\" x=\"219.546\" y=\"-446.3\" font-family=\"Times New Roman,serif\" font-size=\"14.00\">mlt_nr2</text>\r\n",
       "</g>\r\n",
       "<!-- mlt_nr2&#45;&gt;multiply -->\r\n",
       "<g id=\"edge3\" class=\"edge\"><title>mlt_nr2&#45;&gt;multiply</title>\r\n",
       "<path fill=\"none\" stroke=\"black\" d=\"M207.718,-432.765C201.59,-424.354 193.966,-413.89 187.078,-404.436\"/>\r\n",
       "<polygon fill=\"black\" stroke=\"black\" points=\"189.74,-402.145 181.022,-396.124 184.082,-406.267 189.74,-402.145\"/>\r\n",
       "</g>\r\n",
       "<!-- add -->\r\n",
       "<g id=\"node5\" class=\"node\"><title>add</title>\r\n",
       "<polygon fill=\"none\" stroke=\"black\" points=\"135.546,-180 81.5461,-180 81.5461,-144 135.546,-144 135.546,-180\"/>\r\n",
       "<text text-anchor=\"middle\" x=\"108.546\" y=\"-158.3\" font-family=\"Times New Roman,serif\" font-size=\"14.00\">add</text>\r\n",
       "</g>\r\n",
       "<!-- add_result -->\r\n",
       "<g id=\"node6\" class=\"node\"><title>add_result</title>\r\n",
       "<ellipse fill=\"none\" stroke=\"black\" cx=\"108.546\" cy=\"-90\" rx=\"48.9926\" ry=\"18\"/>\r\n",
       "<text text-anchor=\"middle\" x=\"108.546\" y=\"-86.3\" font-family=\"Times New Roman,serif\" font-size=\"14.00\">add_result</text>\r\n",
       "</g>\r\n",
       "<!-- add&#45;&gt;add_result -->\r\n",
       "<g id=\"edge4\" class=\"edge\"><title>add&#45;&gt;add_result</title>\r\n",
       "<path fill=\"none\" stroke=\"black\" d=\"M108.546,-143.697C108.546,-135.983 108.546,-126.712 108.546,-118.112\"/>\r\n",
       "<polygon fill=\"black\" stroke=\"black\" points=\"112.046,-118.104 108.546,-108.104 105.046,-118.104 112.046,-118.104\"/>\r\n",
       "</g>\r\n",
       "<!-- add/add_result -->\r\n",
       "<g id=\"node12\" class=\"node\"><title>add/add_result</title>\r\n",
       "<ellipse fill=\"none\" stroke=\"black\" cx=\"108.546\" cy=\"-18\" rx=\"64.9885\" ry=\"18\"/>\r\n",
       "<text text-anchor=\"middle\" x=\"108.546\" y=\"-14.3\" font-family=\"Times New Roman,serif\" font-size=\"14.00\">add/add_result</text>\r\n",
       "</g>\r\n",
       "<!-- add_result&#45;&gt;add/add_result -->\r\n",
       "<g id=\"edge11\" class=\"edge\"><title>add_result&#45;&gt;add/add_result</title>\r\n",
       "<path fill=\"none\" stroke=\"blue\" d=\"M108.546,-71.6966C108.546,-63.9827 108.546,-54.7125 108.546,-46.1124\"/>\r\n",
       "<polygon fill=\"blue\" stroke=\"blue\" points=\"112.046,-46.1043 108.546,-36.1043 105.046,-46.1044 112.046,-46.1043\"/>\r\n",
       "</g>\r\n",
       "<!-- add_nr2 -->\r\n",
       "<g id=\"node7\" class=\"node\"><title>add_nr2</title>\r\n",
       "<ellipse fill=\"none\" stroke=\"black\" cx=\"53.5461\" cy=\"-234\" rx=\"40.8928\" ry=\"18\"/>\r\n",
       "<text text-anchor=\"middle\" x=\"53.5461\" y=\"-230.3\" font-family=\"Times New Roman,serif\" font-size=\"14.00\">add_nr2</text>\r\n",
       "</g>\r\n",
       "<!-- add_nr2&#45;&gt;add -->\r\n",
       "<g id=\"edge6\" class=\"edge\"><title>add_nr2&#45;&gt;add</title>\r\n",
       "<path fill=\"none\" stroke=\"black\" d=\"M66.3025,-216.765C72.9784,-208.268 81.3002,-197.677 88.7882,-188.146\"/>\r\n",
       "<polygon fill=\"black\" stroke=\"black\" points=\"91.6655,-190.15 95.0916,-180.124 86.1612,-185.825 91.6655,-190.15\"/>\r\n",
       "</g>\r\n",
       "<!-- flow_nr3 -->\r\n",
       "<g id=\"node8\" class=\"node\"><title>flow_nr3</title>\r\n",
       "<ellipse fill=\"none\" stroke=\"black\" cx=\"43.5461\" cy=\"-306\" rx=\"43.5923\" ry=\"18\"/>\r\n",
       "<text text-anchor=\"middle\" x=\"43.5461\" y=\"-302.3\" font-family=\"Times New Roman,serif\" font-size=\"14.00\">flow_nr3</text>\r\n",
       "</g>\r\n",
       "<!-- flow_nr3&#45;&gt;add_nr2 -->\r\n",
       "<g id=\"edge5\" class=\"edge\"><title>flow_nr3&#45;&gt;add_nr2</title>\r\n",
       "<path fill=\"none\" stroke=\"black\" d=\"M46.018,-287.697C47.12,-279.983 48.4444,-270.712 49.6729,-262.112\"/>\r\n",
       "<polygon fill=\"black\" stroke=\"black\" points=\"53.1532,-262.499 51.1027,-252.104 46.2235,-261.509 53.1532,-262.499\"/>\r\n",
       "</g>\r\n",
       "<!-- add_nr_1&#45;&gt;add -->\r\n",
       "<g id=\"edge8\" class=\"edge\"><title>add_nr_1&#45;&gt;add</title>\r\n",
       "<path fill=\"none\" stroke=\"black\" d=\"M150.512,-216.411C143.927,-208.031 135.796,-197.682 128.45,-188.332\"/>\r\n",
       "<polygon fill=\"black\" stroke=\"black\" points=\"131.185,-186.148 122.254,-180.447 125.68,-190.472 131.185,-186.148\"/>\r\n",
       "</g>\r\n",
       "<!-- flow_nr1 -->\r\n",
       "<g id=\"node10\" class=\"node\"><title>flow_nr1</title>\r\n",
       "<ellipse fill=\"none\" stroke=\"black\" cx=\"116.546\" cy=\"-522\" rx=\"43.5923\" ry=\"18\"/>\r\n",
       "<text text-anchor=\"middle\" x=\"116.546\" y=\"-518.3\" font-family=\"Times New Roman,serif\" font-size=\"14.00\">flow_nr1</text>\r\n",
       "</g>\r\n",
       "<!-- flow_nr1&#45;&gt;mlt_nr_1 -->\r\n",
       "<g id=\"edge9\" class=\"edge\"><title>flow_nr1&#45;&gt;mlt_nr_1</title>\r\n",
       "<path fill=\"none\" stroke=\"blue\" d=\"M116.793,-503.697C116.904,-495.983 117.036,-486.712 117.159,-478.112\"/>\r\n",
       "<polygon fill=\"blue\" stroke=\"blue\" points=\"120.658,-478.153 117.302,-468.104 113.659,-478.053 120.658,-478.153\"/>\r\n",
       "</g>\r\n",
       "<!-- flow_nr2 -->\r\n",
       "<g id=\"node11\" class=\"node\"><title>flow_nr2</title>\r\n",
       "<ellipse fill=\"none\" stroke=\"black\" cx=\"221.546\" cy=\"-522\" rx=\"43.5923\" ry=\"18\"/>\r\n",
       "<text text-anchor=\"middle\" x=\"221.546\" y=\"-518.3\" font-family=\"Times New Roman,serif\" font-size=\"14.00\">flow_nr2</text>\r\n",
       "</g>\r\n",
       "<!-- flow_nr2&#45;&gt;mlt_nr2 -->\r\n",
       "<g id=\"edge10\" class=\"edge\"><title>flow_nr2&#45;&gt;mlt_nr2</title>\r\n",
       "<path fill=\"none\" stroke=\"blue\" d=\"M221.052,-503.697C220.831,-495.983 220.566,-486.712 220.321,-478.112\"/>\r\n",
       "<polygon fill=\"blue\" stroke=\"blue\" points=\"223.819,-478 220.035,-468.104 216.822,-478.2 223.819,-478\"/>\r\n",
       "</g>\r\n",
       "</g>\r\n",
       "</svg>\r\n"
      ],
      "text/plain": [
       "<graphviz.dot.Digraph at 0x69b2be0>"
      ]
     },
     "execution_count": 11,
     "metadata": {},
     "output_type": "execute_result"
    }
   ],
   "source": [
    "\n",
    "dot = calc_flow.get_dot()\n",
    "dot"
   ]
  },
  {
   "cell_type": "code",
   "execution_count": null,
   "metadata": {
    "collapsed": true
   },
   "outputs": [],
   "source": []
  }
 ],
 "metadata": {
  "kernelspec": {
   "display_name": "Python 2",
   "language": "python",
   "name": "python2"
  },
  "language_info": {
   "codemirror_mode": {
    "name": "ipython",
    "version": 2
   },
   "file_extension": ".py",
   "mimetype": "text/x-python",
   "name": "python",
   "nbconvert_exporter": "python",
   "pygments_lexer": "ipython2",
   "version": "2.7.13"
  }
 },
 "nbformat": 4,
 "nbformat_minor": 2
}
