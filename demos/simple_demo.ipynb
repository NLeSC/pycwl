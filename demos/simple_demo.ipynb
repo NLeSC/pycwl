{
 "cells": [
  {
   "cell_type": "markdown",
   "metadata": {},
   "source": [
    "# A simple pycwl demo"
   ]
  },
  {
   "cell_type": "code",
   "execution_count": 1,
   "metadata": {},
   "outputs": [],
   "source": [
    "import sys\n",
    "sys.path.append(\"../pycwl/\")\n",
    "import pycwl"
   ]
  },
  {
   "cell_type": "markdown",
   "metadata": {},
   "source": [
    "### Making command-line tools"
   ]
  },
  {
   "cell_type": "markdown",
   "metadata": {},
   "source": [
    "* We make a CommandLineTool which runs multiply.py"
   ]
  },
  {
   "cell_type": "code",
   "execution_count": 2,
   "metadata": {},
   "outputs": [],
   "source": [
    "multiply_clt = pycwl.CommandLineTool(baseCommand = [\"python\", \"multiply.py\"])"
   ]
  },
  {
   "cell_type": "markdown",
   "metadata": {},
   "source": [
    "* We add inputs and outputs to this CommandLineTool. It takes two integers as input and generates one integer as output. We also need to tell the CommandLineTool how (which and in which order) to put the inputs as arguments on the command-line. \n",
    "\n",
    "* For the inputs we use an IO object (input-output) which will keep track of the datatype and can have default values."
   ]
  },
  {
   "cell_type": "code",
   "execution_count": 3,
   "metadata": {},
   "outputs": [],
   "source": [
    "multiply_clt.inputs[\"mlt_nr1\"]= pycwl.IO(datatype = \"int\", default_value=5)\n",
    "multiply_clt.inputs[\"mlt_nr2\"]= pycwl.IO(datatype = \"int\")\n",
    "multiply_clt.outputs[\"multiply_result\"] = pycwl.IO(datatype = \"int\", output_type=\"stdout\")\n",
    "multiply_clt.arguments = [multiply_clt.inputs[\"mlt_nr1\"],multiply_clt.inputs[\"mlt_nr2\"]]"
   ]
  },
  {
   "cell_type": "markdown",
   "metadata": {},
   "source": [
    "* Just a little check inbetween to see whats in our CommandLineTool"
   ]
  },
  {
   "cell_type": "code",
   "execution_count": 4,
   "metadata": {},
   "outputs": [
    {
     "name": "stdout",
     "output_type": "stream",
     "text": [
      "['python', 'multiply.py']\n",
      "{'mlt_nr2': <pycwl.IO object at 0x00000000045DB668>, 'mlt_nr1': <pycwl.IO object at 0x0000000002BD9978>}\n",
      "{'multiply_result': <pycwl.IO object at 0x0000000002BACB38>}\n",
      "[<pycwl.IO object at 0x0000000002BD9978>, <pycwl.IO object at 0x00000000045DB668>]\n",
      "stdout\n"
     ]
    }
   ],
   "source": [
    "print multiply_clt.baseCommand\n",
    "print multiply_clt.inputs\n",
    "print multiply_clt.outputs\n",
    "print multiply_clt.arguments\n",
    "print multiply_clt.outputs[\"multiply_result\"].output_type"
   ]
  },
  {
   "cell_type": "markdown",
   "metadata": {},
   "source": [
    "* We make a second command-line tool that will add two numbers together (add.py)"
   ]
  },
  {
   "cell_type": "code",
   "execution_count": 5,
   "metadata": {},
   "outputs": [],
   "source": [
    "add_clt = pycwl.CommandLineTool(baseCommand = [\"python\", \"add.py\"])\n",
    "add_clt.inputs[\"add_nr1\"]= pycwl.IO(datatype = \"int\", default_value=5)\n",
    "add_clt.inputs[\"add_nr2\"]= pycwl.IO(datatype = \"int\")\n",
    "add_clt.outputs[\"add_result\"] = pycwl.IO(datatype = \"int\", output_type=\"stdout\")\n",
    "add_clt.arguments = [add_clt.inputs[\"add_nr1\"],add_clt.inputs[\"add_nr2\"]]"
   ]
  },
  {
   "cell_type": "markdown",
   "metadata": {},
   "source": [
    "### Making a WorkFlow"
   ]
  },
  {
   "cell_type": "markdown",
   "metadata": {},
   "source": [
    "* To make a workflow we make a WorkFlow object"
   ]
  },
  {
   "cell_type": "code",
   "execution_count": 9,
   "metadata": {},
   "outputs": [],
   "source": [
    "calc_flow = pycwl.Workflow()"
   ]
  },
  {
   "cell_type": "markdown",
   "metadata": {},
   "source": [
    "* We add inputs and outputs in typical CWL style"
   ]
  },
  {
   "cell_type": "code",
   "execution_count": 10,
   "metadata": {},
   "outputs": [],
   "source": [
    "calc_flow.inputs[\"flow_nr1\"] = pycwl.IO(datatype = \"int\")\n",
    "calc_flow.inputs[\"flow_nr2\"] = pycwl.IO(datatype = \"int\")\n",
    "calc_flow.outputs[\"add/add_result\"] = pycwl.IO(datatype = \"int\")"
   ]
  },
  {
   "cell_type": "markdown",
   "metadata": {},
   "source": [
    "* Now we make a Step containing the multiply_clt process. We need to map multiply_clt's inputs, in this case we map them to the inputs of the workflow"
   ]
  },
  {
   "cell_type": "code",
   "execution_count": 11,
   "metadata": {},
   "outputs": [],
   "source": [
    "step = pycwl.Step(process = multiply_clt)\n",
    "step.input_map = {\"flow_nr1\": \"mlt_nr_1\",\n",
    "              \"flow_nr2\": \"mlt_nr2\"}\n",
    "step.outputs = {\"multiply_result\"}"
   ]
  },
  {
   "cell_type": "markdown",
   "metadata": {},
   "source": [
    "* And we add the step to the workflow"
   ]
  },
  {
   "cell_type": "code",
   "execution_count": 12,
   "metadata": {},
   "outputs": [],
   "source": [
    "calc_flow.steps[\"multiply\"] = step"
   ]
  },
  {
   "cell_type": "markdown",
   "metadata": {},
   "source": [
    "* In a different way we add the add_clt process to the workflow also. Note we map the inputs of add to 1) the output of multiply and 2) an input of the workflow"
   ]
  },
  {
   "cell_type": "code",
   "execution_count": 13,
   "metadata": {},
   "outputs": [],
   "source": [
    "calc_flow.steps[\"add\"] = pycwl.Step(\n",
    "    process=add_clt,\n",
    "    input_map={\n",
    "        \"multiply/multiply_result\": \"add_nr_1\",\n",
    "        \"flow_nr3\": \"add_nr2\",\n",
    "    },\n",
    "    outputs={\n",
    "        \"add_result\",\n",
    "    },\n",
    ")"
   ]
  },
  {
   "cell_type": "code",
   "execution_count": null,
   "metadata": {
    "collapsed": true
   },
   "outputs": [],
   "source": []
  }
 ],
 "metadata": {
  "kernelspec": {
   "display_name": "Python 2",
   "language": "python",
   "name": "python2"
  },
  "language_info": {
   "codemirror_mode": {
    "name": "ipython",
    "version": 2
   },
   "file_extension": ".py",
   "mimetype": "text/x-python",
   "name": "python",
   "nbconvert_exporter": "python",
   "pygments_lexer": "ipython2",
   "version": "2.7.13"
  }
 },
 "nbformat": 4,
 "nbformat_minor": 2
}
